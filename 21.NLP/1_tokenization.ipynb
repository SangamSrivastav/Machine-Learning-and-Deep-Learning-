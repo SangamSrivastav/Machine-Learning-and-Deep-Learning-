{
 "cells": [
  {
   "cell_type": "code",
   "execution_count": 1,
   "metadata": {},
   "outputs": [],
   "source": [
    "corpus = \"\"\"\n",
    "    The quick brown fox jumps over the lazy dog.\n",
    "    The dog barks at the fox.\n",
    "    The fox runs away.\n",
    "    The fox jumps back.\n",
    "    The dog runs back.\n",
    "    The dog barks again.\"\"\""
   ]
  },
  {
   "cell_type": "code",
   "execution_count": 2,
   "metadata": {},
   "outputs": [
    {
     "name": "stdout",
     "output_type": "stream",
     "text": [
      "\n",
      "    The quick brown fox jumps over the lazy dog.\n",
      "    The dog barks at the fox.\n",
      "    The fox runs away.\n",
      "    The fox jumps back.\n",
      "    The dog runs back.\n",
      "    The dog barks again.\n"
     ]
    }
   ],
   "source": [
    "print(corpus)"
   ]
  },
  {
   "cell_type": "code",
   "execution_count": null,
   "metadata": {},
   "outputs": [
    {
     "name": "stderr",
     "output_type": "stream",
     "text": [
      "[nltk_data] Downloading package punkt to\n",
      "[nltk_data]     C:\\Users\\sanga\\AppData\\Roaming\\nltk_data...\n",
      "[nltk_data]   Package punkt is already up-to-date!\n",
      "[nltk_data] Downloading package wordnet to\n",
      "[nltk_data]     C:\\Users\\sanga\\AppData\\Roaming\\nltk_data...\n"
     ]
    },
    {
     "data": {
      "text/plain": [
       "True"
      ]
     },
     "execution_count": 13,
     "metadata": {},
     "output_type": "execute_result"
    }
   ],
   "source": [
    "import nltk\n",
    "nltk.download('punkt')\n",
    "nltk.download('wordnet')"
   ]
  },
  {
   "cell_type": "code",
   "execution_count": 8,
   "metadata": {},
   "outputs": [],
   "source": [
    "from nltk.tokenize import sent_tokenize"
   ]
  },
  {
   "cell_type": "code",
   "execution_count": 9,
   "metadata": {},
   "outputs": [
    {
     "data": {
      "text/plain": [
       "['\\n    The quick brown fox jumps over the lazy dog.',\n",
       " 'The dog barks at the fox.',\n",
       " 'The fox runs away.',\n",
       " 'The fox jumps back.',\n",
       " 'The dog runs back.',\n",
       " 'The dog barks again.']"
      ]
     },
     "execution_count": 9,
     "metadata": {},
     "output_type": "execute_result"
    }
   ],
   "source": [
    "sent_tokenize(corpus)"
   ]
  },
  {
   "cell_type": "code",
   "execution_count": 5,
   "metadata": {},
   "outputs": [],
   "source": [
    "from nltk.tokenize import word_tokenize"
   ]
  },
  {
   "cell_type": "code",
   "execution_count": 10,
   "metadata": {},
   "outputs": [
    {
     "name": "stderr",
     "output_type": "stream",
     "text": [
      "[nltk_data] Downloading package punkt to C:\\Users\\sanga/nltk_data...\n",
      "[nltk_data]   Package punkt is already up-to-date!\n"
     ]
    },
    {
     "data": {
      "text/plain": [
       "['The',\n",
       " 'quick',\n",
       " 'brown',\n",
       " 'fox',\n",
       " 'jumps',\n",
       " 'over',\n",
       " 'the',\n",
       " 'lazy',\n",
       " 'dog',\n",
       " '.',\n",
       " 'The',\n",
       " 'dog',\n",
       " 'barks',\n",
       " 'at',\n",
       " 'the',\n",
       " 'fox',\n",
       " '.',\n",
       " 'The',\n",
       " 'fox',\n",
       " 'runs',\n",
       " 'away',\n",
       " '.',\n",
       " 'The',\n",
       " 'fox',\n",
       " 'jumps',\n",
       " 'back',\n",
       " '.',\n",
       " 'The',\n",
       " 'dog',\n",
       " 'runs',\n",
       " 'back',\n",
       " '.',\n",
       " 'The',\n",
       " 'dog',\n",
       " 'barks',\n",
       " 'again',\n",
       " '.']"
      ]
     },
     "execution_count": 10,
     "metadata": {},
     "output_type": "execute_result"
    }
   ],
   "source": [
    "import nltk\n",
    "nltk.download('punkt')\n",
    "\n",
    "word_tokenize(corpus)"
   ]
  },
  {
   "cell_type": "code",
   "execution_count": 14,
   "metadata": {},
   "outputs": [],
   "source": [
    "from nltk.tokenize import wordpunct_tokenize"
   ]
  },
  {
   "cell_type": "code",
   "execution_count": 15,
   "metadata": {},
   "outputs": [
    {
     "data": {
      "text/plain": [
       "['The',\n",
       " 'quick',\n",
       " 'brown',\n",
       " 'fox',\n",
       " 'jumps',\n",
       " 'over',\n",
       " 'the',\n",
       " 'lazy',\n",
       " 'dog',\n",
       " '.',\n",
       " 'The',\n",
       " 'dog',\n",
       " 'barks',\n",
       " 'at',\n",
       " 'the',\n",
       " 'fox',\n",
       " '.',\n",
       " 'The',\n",
       " 'fox',\n",
       " 'runs',\n",
       " 'away',\n",
       " '.',\n",
       " 'The',\n",
       " 'fox',\n",
       " 'jumps',\n",
       " 'back',\n",
       " '.',\n",
       " 'The',\n",
       " 'dog',\n",
       " 'runs',\n",
       " 'back',\n",
       " '.',\n",
       " 'The',\n",
       " 'dog',\n",
       " 'barks',\n",
       " 'again',\n",
       " '.']"
      ]
     },
     "execution_count": 15,
     "metadata": {},
     "output_type": "execute_result"
    }
   ],
   "source": [
    "wordpunct_tokenize(corpus)"
   ]
  },
  {
   "cell_type": "code",
   "execution_count": 16,
   "metadata": {},
   "outputs": [],
   "source": [
    "from nltk.tokenize import TreebankWordTokenizer"
   ]
  },
  {
   "cell_type": "code",
   "execution_count": 17,
   "metadata": {},
   "outputs": [
    {
     "data": {
      "text/plain": [
       "['The',\n",
       " 'quick',\n",
       " 'brown',\n",
       " 'fox',\n",
       " 'jumps',\n",
       " 'over',\n",
       " 'the',\n",
       " 'lazy',\n",
       " 'dog.',\n",
       " 'The',\n",
       " 'dog',\n",
       " 'barks',\n",
       " 'at',\n",
       " 'the',\n",
       " 'fox.',\n",
       " 'The',\n",
       " 'fox',\n",
       " 'runs',\n",
       " 'away.',\n",
       " 'The',\n",
       " 'fox',\n",
       " 'jumps',\n",
       " 'back.',\n",
       " 'The',\n",
       " 'dog',\n",
       " 'runs',\n",
       " 'back.',\n",
       " 'The',\n",
       " 'dog',\n",
       " 'barks',\n",
       " 'again',\n",
       " '.']"
      ]
     },
     "execution_count": 17,
     "metadata": {},
     "output_type": "execute_result"
    }
   ],
   "source": [
    "Tokenizer = TreebankWordTokenizer()\n",
    "Tokenizer.tokenize(corpus)"
   ]
  },
  {
   "cell_type": "code",
   "execution_count": null,
   "metadata": {},
   "outputs": [],
   "source": []
  }
 ],
 "metadata": {
  "kernelspec": {
   "display_name": "base",
   "language": "python",
   "name": "python3"
  },
  "language_info": {
   "codemirror_mode": {
    "name": "ipython",
    "version": 3
   },
   "file_extension": ".py",
   "mimetype": "text/x-python",
   "name": "python",
   "nbconvert_exporter": "python",
   "pygments_lexer": "ipython3",
   "version": "3.11.5"
  }
 },
 "nbformat": 4,
 "nbformat_minor": 2
}
